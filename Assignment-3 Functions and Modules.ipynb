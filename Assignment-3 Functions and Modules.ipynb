{
 "cells": [
  {
   "cell_type": "markdown",
   "id": "3b800734",
   "metadata": {},
   "source": [
    "# Q1"
   ]
  },
  {
   "cell_type": "code",
   "execution_count": 1,
   "id": "d162e2b5",
   "metadata": {},
   "outputs": [
    {
     "name": "stdout",
     "output_type": "stream",
     "text": [
      "26\n"
     ]
    }
   ],
   "source": [
    "#  Write a Python function to sum all the numbers in a list.\n",
    "# Sample List : (8, 2, 3, 0, 7)\n",
    "\n",
    "a=[8,3,2,0,7,6]\n",
    "def summation():\n",
    "    total=0\n",
    "    for i in a:\n",
    "        total+=i\n",
    "    print(total)\n",
    "s=summation()"
   ]
  },
  {
   "cell_type": "markdown",
   "id": "b726dcb7",
   "metadata": {},
   "source": [
    "# Q2 "
   ]
  },
  {
   "cell_type": "code",
   "execution_count": 34,
   "id": "40fc1954",
   "metadata": {},
   "outputs": [
    {
     "name": "stdout",
     "output_type": "stream",
     "text": [
      "akshay\n",
      "y a h s k A "
     ]
    }
   ],
   "source": [
    "# Write a Python program to reverse a string.\n",
    "\n",
    "\n",
    "\n",
    "# Sample String : \"1234abcd\"\n",
    "a=input()\n",
    "def reverse_fun(a):\n",
    "    for char in range(len(a)-1,-1,-1):\n",
    "        print(name[char],end=' ') \n",
    "reverse_fun(a)"
   ]
  },
  {
   "cell_type": "markdown",
   "id": "a4a36be9",
   "metadata": {},
   "source": [
    "# Q3"
   ]
  },
  {
   "cell_type": "code",
   "execution_count": 38,
   "id": "a64a150d",
   "metadata": {},
   "outputs": [
    {
     "name": "stdout",
     "output_type": "stream",
     "text": [
      "3\n",
      "12\n"
     ]
    }
   ],
   "source": [
    "# Write a Python function that accepts a string and calculate the number of upper case letters and lower case letters.\n",
    "\n",
    "\n",
    "\n",
    "# ﻿Sample String : 'The quick Brow Fox'\n",
    "\n",
    "# Expected Output :\n",
    "\n",
    "# No. of Upper case characters : 3\n",
    "\n",
    "# No. of Lower case Characters : 12\n",
    "\n",
    "def string():\n",
    "    my_string='The quick Brow Fox'\n",
    "    count=0\n",
    "    count1=0\n",
    "    for i in my_string:\n",
    "        if i.isupper():\n",
    "            count+=1\n",
    "        if i.islower():\n",
    "            count1+=1\n",
    "    print(count)\n",
    "    print(count1)\n",
    "string()    \n"
   ]
  },
  {
   "cell_type": "code",
   "execution_count": null,
   "id": "63b8edc6",
   "metadata": {},
   "outputs": [],
   "source": []
  }
 ],
 "metadata": {
  "kernelspec": {
   "display_name": "Python 3",
   "language": "python",
   "name": "python3"
  },
  "language_info": {
   "codemirror_mode": {
    "name": "ipython",
    "version": 3
   },
   "file_extension": ".py",
   "mimetype": "text/x-python",
   "name": "python",
   "nbconvert_exporter": "python",
   "pygments_lexer": "ipython3",
   "version": "3.8.8"
  }
 },
 "nbformat": 4,
 "nbformat_minor": 5
}
